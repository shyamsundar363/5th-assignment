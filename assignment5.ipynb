{
 "cells": [
  {
   "cell_type": "markdown",
   "id": "11851ff7",
   "metadata": {},
   "source": [
    "# 1) Write a Python class to implement pow(x, n)\n",
    "\n",
    "\n",
    "\n",
    "Explanation:\n",
    "\n",
    "Use should be able to find the nth power of the x.(i.e x*x*x*x...n times)\n",
    "\n",
    "You must implement it using Class"
   ]
  },
  {
   "cell_type": "code",
   "execution_count": 1,
   "id": "b4f9f2f5",
   "metadata": {},
   "outputs": [],
   "source": [
    "class power_value:\n",
    "    def __init__(self,x,n):\n",
    "        self.x=x\n",
    "        self.n=n\n",
    "    \n",
    "    def final(self):\n",
    "        value=self.x**self.n\n",
    "        return value\n",
    "    "
   ]
  },
  {
   "cell_type": "code",
   "execution_count": 4,
   "id": "f5b38aa7",
   "metadata": {},
   "outputs": [],
   "source": [
    "pwr = power_value(10,2)"
   ]
  },
  {
   "cell_type": "code",
   "execution_count": 5,
   "id": "15baa896",
   "metadata": {},
   "outputs": [
    {
     "data": {
      "text/plain": [
       "100"
      ]
     },
     "execution_count": 5,
     "metadata": {},
     "output_type": "execute_result"
    }
   ],
   "source": [
    "pwr.final()"
   ]
  },
  {
   "cell_type": "code",
   "execution_count": null,
   "id": "3ec0cc2d",
   "metadata": {},
   "outputs": [],
   "source": []
  }
 ],
 "metadata": {
  "kernelspec": {
   "display_name": "Python 3 (ipykernel)",
   "language": "python",
   "name": "python3"
  },
  "language_info": {
   "codemirror_mode": {
    "name": "ipython",
    "version": 3
   },
   "file_extension": ".py",
   "mimetype": "text/x-python",
   "name": "python",
   "nbconvert_exporter": "python",
   "pygments_lexer": "ipython3",
   "version": "3.9.6"
  }
 },
 "nbformat": 4,
 "nbformat_minor": 5
}
